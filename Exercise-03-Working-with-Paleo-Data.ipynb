{
 "cells": [
  {
   "cell_type": "markdown",
   "metadata": {},
   "source": [
    "# Accessing and analysing web resources with pygplates\n",
    "\n",
    "### Overview\n",
    "\n",
    "This notebook goes through the steps of\n",
    "- accessing geoscientific data directly from web servers and loading into python\n",
    "- converting these data into a GPlates-compatible version\n",
    "- carrying out spatial analysis that compares fossil occurences to the locations of interpreted paleoshorelines through geological time\n",
    "\n",
    "\n",
    "### Part 1\n",
    "\n",
    "The first part of this exercise goes through the actions of getting data sets directly from web services, and loading them into your python workspace. \n",
    "\n",
    "Let's start by doing something that has nothing to do with GPlates whatsoever. We use a python module called 'requests' to make a request to a web service run by the USGS, and load the data into a pandas dataframe (the function 'StringIO' is also used to help pandas recognise the data stream that comes back from the USGS web service as something resembling a csv file).\n",
    "\n",
    "Note that when you run the next cell, you will have to wait for a while as the data is downloaded.\n",
    "\n",
    "To quickly see what is in returned data, we can print the resulting text, which reveals a stream of data in csv format.\n"
   ]
  },
  {
   "cell_type": "code",
   "execution_count": 1,
   "metadata": {},
   "outputs": [],
   "source": [
    "import requests\n",
    "from io import StringIO\n",
    "import matplotlib.pyplot as plt\n",
    "import pandas as pd\n",
    "\n",
    "%matplotlib inline"
   ]
  },
  {
   "cell_type": "code",
   "execution_count": 2,
   "metadata": {},
   "outputs": [
    {
     "data": {
      "text/plain": [
       "[<matplotlib.lines.Line2D at 0x7f520c390410>]"
      ]
     },
     "execution_count": 2,
     "metadata": {},
     "output_type": "execute_result"
    },
    {
     "data": {
      "image/png": "[encoded data removed]",
      "text/plain": [
       "<Figure size 432x288 with 1 Axes>"
      ]
     },
     "metadata": {
      "needs_background": "light"
     },
     "output_type": "display_data"
    }
   ],
   "source": [
    "# SOLUTION\n",
    "r = requests.get('https://paleobiodb.org/data1.1/occs/list.csv?limit=all&interval_id=15&base_id=18891&show=coords,attr,loc,prot,time,strat,stratext,lith,lithext,geo,rem,ent,entname,crmod&showsource')\n",
    "\n",
    "#print r.text\n",
    "\n",
    "df = pd.read_csv(StringIO(r.text),skiprows=15)\n",
    "\n",
    "plt.plot(df.lng,df.lat,'.')\n"
   ]
  },
  {
   "cell_type": "code",
   "execution_count": 2,
   "metadata": {},
   "outputs": [
    {
     "data": {
      "text/plain": [
       "[<matplotlib.lines.Line2D at 0x7f81a2f44990>]"
      ]
     },
     "execution_count": 2,
     "metadata": {},
     "output_type": "execute_result"
    },
    {
     "data": {
      "image/png": "[encoded data removed]",
      "text/plain": [
       "<Figure size 432x288 with 1 Axes>"
      ]
     },
     "metadata": {
      "needs_background": "light"
     },
     "output_type": "display_data"
    }
   ],
   "source": [
    "r = requests.get('https://paleobiodb.org/data1.1/occs/list.csv?limit=all&interval_id=40&base_id=4524&show=coords,attr,loc,prot,time,strat,stratext,lith,lithext,geo,rem,ent,entname,crmod&showsource')\n",
    "\n",
    "df = pd.read_csv(StringIO(r.text),skiprows=15)\n",
    "\n",
    "plt.plot(df.lng,df.lat,'.')\n"
   ]
  },
  {
   "cell_type": "markdown",
   "metadata": {},
   "source": [
    "#### Creating a GPlates Feature Collection\n",
    "\n",
    "To do something with these fossil data - either with GPlates or pygplates - we first need to convert the data into a 'feature collection'. The following example shows how to take the coordinates from each fossil occurence in the dataframe and make a GPlates 'Point feature'. We append each feature to a big list of features, then save this to a 'Feature Collection' that GPlates can read."
   ]
  },
  {
   "cell_type": "code",
   "execution_count": 3,
   "metadata": {},
   "outputs": [],
   "source": [
    "import pygplates\n",
    "\n",
    "fossil_point_features = []\n",
    "for index,row in df.iterrows():\n",
    "    point = pygplates.PointOnSphere(float(row.lat),float(row.lng))\n",
    "    point_feature = pygplates.Feature()\n",
    "    point_feature.set_geometry(point)\n",
    "    fossil_point_features.append(point_feature)\n",
    "    \n",
    "# Having created a list of features, we need to tell pygplates that this is a coherent 'Feature Collection'\n",
    "# Then, we can save it to a file\n",
    "# [note that the file format is controlled by the file extension we enter - can be *.gpml, *.gmt or *.shp]\n",
    "output_feature_collection = pygplates.FeatureCollection(fossil_point_features)\n",
    "output_feature_collection.write('my_fossils.gpml')\n"
   ]
  },
  {
   "cell_type": "markdown",
   "metadata": {},
   "source": [
    "Load this feature collection into GPlates and look at it.\n",
    "\n",
    "Questions:\n",
    "- what information is missing from this feature collection that would be useful to assign to it?\n",
    "- how can we assign that information (either in GPlates or within the python notebook)?  \n",
    "\n",
    "HINTS: \n",
    "- one of the tutorials should help on this point\n",
    "- the set_shapefile_attribute('')\n"
   ]
  },
  {
   "cell_type": "markdown",
   "metadata": {},
   "source": [
    "### Part 2: Fossils and depositional environments\n",
    "\n",
    "The rest of this notebook begins to consider the question 'what do fossils tell us about paleoenvironments?'\n",
    "\n",
    "First, look at what types of attributes we have for each fossil, by listing the columns\n"
   ]
  },
  {
   "cell_type": "code",
   "execution_count": 4,
   "metadata": {},
   "outputs": [
    {
     "data": {
      "text/plain": [
       "Index([u'occurrence_no', u'record_type', u'reid_no', u'superceded',\n",
       "       u'collection_no', u'taxon_name', u'taxon_rank', u'taxon_no',\n",
       "       u'matched_name', u'matched_rank', u'matched_no', u'early_interval',\n",
       "       u'late_interval', u'early_age', u'late_age', u'reference_no', u'lng',\n",
       "       u'lat', u'cc', u'state', u'county', u'geogscale', u'protected',\n",
       "       u'early_age.1', u'late_age.1', u'cx_int_no', u'early_int_no',\n",
       "       u'late_int_no', u'formation', u'stratgroup', u'member', u'stratscale',\n",
       "       u'zone', u'localsection', u'localbed', u'localorder',\n",
       "       u'regionalsection', u'regionalbed', u'regionalorder', u'stratcomments',\n",
       "       u'lithdescript', u'lithology1', u'lithadj1', u'lithification1',\n",
       "       u'minor_lithology1', u'fossilsfrom1', u'lithology2', u'lithadj2',\n",
       "       u'lithification2', u'minor_lithology2', u'fossilsfrom2', u'environment',\n",
       "       u'tectonic_setting', u'geology_comments', u'collection_aka',\n",
       "       u'authorizer_no', u'enterer_no', u'modifier_no', u'authorizer',\n",
       "       u'enterer', u'modifier', u'created', u'modified'],\n",
       "      dtype='object')"
      ]
     },
     "execution_count": 4,
     "metadata": {},
     "output_type": "execute_result"
    }
   ],
   "source": [
    "df.columns"
   ]
  },
  {
   "cell_type": "markdown",
   "metadata": {},
   "source": [
    "We are going to focus on the column called 'environment', which contains information about the sedimentary depositional environment of the rock that hosts the fossil (at least according to the interpretation of the geologist who found the fossil). Let's look at the values in that column (only the first part of the full dataframe is listed)"
   ]
  },
  {
   "cell_type": "code",
   "execution_count": 5,
   "metadata": {},
   "outputs": [
    {
     "data": {
      "text/plain": [
       "0                           NaN\n",
       "1                 marine indet.\n",
       "2                           NaN\n",
       "3                           NaN\n",
       "4                           NaN\n",
       "5                           NaN\n",
       "6                           NaN\n",
       "7                           NaN\n",
       "8                 marine indet.\n",
       "9                 marine indet.\n",
       "10                marine indet.\n",
       "11                marine indet.\n",
       "12                marine indet.\n",
       "13                marine indet.\n",
       "14                marine indet.\n",
       "15                marine indet.\n",
       "16                marine indet.\n",
       "17                marine indet.\n",
       "18                marine indet.\n",
       "19      shallow subtidal indet.\n",
       "20      shallow subtidal indet.\n",
       "21      shallow subtidal indet.\n",
       "22      shallow subtidal indet.\n",
       "23      shallow subtidal indet.\n",
       "24      shallow subtidal indet.\n",
       "25      shallow subtidal indet.\n",
       "26      shallow subtidal indet.\n",
       "27      shallow subtidal indet.\n",
       "28      shallow subtidal indet.\n",
       "29      shallow subtidal indet.\n",
       "                 ...           \n",
       "3171    shallow subtidal indet.\n",
       "3172    shallow subtidal indet.\n",
       "3173    shallow subtidal indet.\n",
       "3174    shallow subtidal indet.\n",
       "3175    shallow subtidal indet.\n",
       "3176    shallow subtidal indet.\n",
       "3177    shallow subtidal indet.\n",
       "3178    shallow subtidal indet.\n",
       "3179    shallow subtidal indet.\n",
       "3180    shallow subtidal indet.\n",
       "3181    shallow subtidal indet.\n",
       "3182    shallow subtidal indet.\n",
       "3183    shallow subtidal indet.\n",
       "3184    shallow subtidal indet.\n",
       "3185    shallow subtidal indet.\n",
       "3186    shallow subtidal indet.\n",
       "3187    shallow subtidal indet.\n",
       "3188    shallow subtidal indet.\n",
       "3189    shallow subtidal indet.\n",
       "3190    shallow subtidal indet.\n",
       "3191    shallow subtidal indet.\n",
       "3192    shallow subtidal indet.\n",
       "3193    shallow subtidal indet.\n",
       "3194    shallow subtidal indet.\n",
       "3195    shallow subtidal indet.\n",
       "3196    shallow subtidal indet.\n",
       "3197    shallow subtidal indet.\n",
       "3198    shallow subtidal indet.\n",
       "3199    shallow subtidal indet.\n",
       "3200    shallow subtidal indet.\n",
       "Name: environment, Length: 3201, dtype: object"
      ]
     },
     "execution_count": 5,
     "metadata": {},
     "output_type": "execute_result"
    }
   ],
   "source": [
    "df.environment"
   ]
  },
  {
   "cell_type": "markdown",
   "metadata": {},
   "source": [
    "A useful method that can be applied to pandas dataframes is 'unique' - this lists all the different unique types of enivironment that are found in the 'environment' column. "
   ]
  },
  {
   "cell_type": "code",
   "execution_count": 6,
   "metadata": {},
   "outputs": [
    {
     "name": "stdout",
     "output_type": "stream",
     "text": [
      "[nan 'marine indet.' 'shallow subtidal indet.' 'reef, buildup or bioherm'\n",
      " 'deep subtidal shelf' 'open shallow subtidal'\n",
      " 'lagoonal/restricted shallow subtidal' 'marginal marine indet.'\n",
      " 'shoreface' 'deltaic indet.' 'offshore' 'deep subtidal ramp'\n",
      " 'perireef or subreef' 'coastal indet.' 'basinal (siliciclastic)'\n",
      " 'platform/shelf-margin reef' 'submarine fan' 'deep subtidal indet.'\n",
      " 'carbonate indet.' 'offshore indet.' 'offshore ramp' 'slope/ramp reef'\n",
      " 'transition zone/lower shoreface' 'lacustrine deltaic indet.']\n"
     ]
    }
   ],
   "source": [
    "print df.environment.unique()\n"
   ]
  },
  {
   "cell_type": "markdown",
   "metadata": {},
   "source": [
    "when we load data into a pandas dataframe object, we have access to a wide variety of methods that can operate on the data. For example, suppose we want to find all the rows in the dataframe where the 'environment' field contains the string 'marine' somewhere within the environment description: "
   ]
  },
  {
   "cell_type": "code",
   "execution_count": 7,
   "metadata": {},
   "outputs": [
    {
     "data": {
      "text/plain": [
       "0         NaN\n",
       "1        True\n",
       "2         NaN\n",
       "3         NaN\n",
       "4         NaN\n",
       "5         NaN\n",
       "6         NaN\n",
       "7         NaN\n",
       "8        True\n",
       "9        True\n",
       "10       True\n",
       "11       True\n",
       "12       True\n",
       "13       True\n",
       "14       True\n",
       "15       True\n",
       "16       True\n",
       "17       True\n",
       "18       True\n",
       "19      False\n",
       "20      False\n",
       "21      False\n",
       "22      False\n",
       "23      False\n",
       "24      False\n",
       "25      False\n",
       "26      False\n",
       "27      False\n",
       "28      False\n",
       "29      False\n",
       "        ...  \n",
       "3171    False\n",
       "3172    False\n",
       "3173    False\n",
       "3174    False\n",
       "3175    False\n",
       "3176    False\n",
       "3177    False\n",
       "3178    False\n",
       "3179    False\n",
       "3180    False\n",
       "3181    False\n",
       "3182    False\n",
       "3183    False\n",
       "3184    False\n",
       "3185    False\n",
       "3186    False\n",
       "3187    False\n",
       "3188    False\n",
       "3189    False\n",
       "3190    False\n",
       "3191    False\n",
       "3192    False\n",
       "3193    False\n",
       "3194    False\n",
       "3195    False\n",
       "3196    False\n",
       "3197    False\n",
       "3198    False\n",
       "3199    False\n",
       "3200    False\n",
       "Name: environment, Length: 3201, dtype: object"
      ]
     },
     "execution_count": 7,
     "metadata": {},
     "output_type": "execute_result"
    }
   ],
   "source": [
    "df.environment.str.contains('marine')"
   ]
  },
  {
   "cell_type": "markdown",
   "metadata": {},
   "source": [
    "In the above, we get back a list of boolean results that are True where the environment string contains marine, False where it does not (And NaN, Not-a-Number, where the original field was also NaN)\n",
    "\n",
    "We can use this result as an index to create a new, smaller dataframe that only contains the rows where the criteria we set are satisfied. Once we've made the subset dataframe, we can print the unique values in the environment column just for that dataframe, to check that our selection has worked. "
   ]
  },
  {
   "cell_type": "code",
   "execution_count": 8,
   "metadata": {},
   "outputs": [
    {
     "name": "stdout",
     "output_type": "stream",
     "text": [
      "[nan 'marine indet.' 'marginal marine indet.' 'submarine fan']\n"
     ]
    }
   ],
   "source": [
    "subset = df.where(df.environment.str.contains('marine'))\n",
    "\n",
    "print subset.environment.unique()"
   ]
  },
  {
   "cell_type": "markdown",
   "metadata": {},
   "source": [
    "To see the spatial distribution of the data we have selected, we can plot a quick map "
   ]
  },
  {
   "cell_type": "code",
   "execution_count": 9,
   "metadata": {},
   "outputs": [
    {
     "data": {
      "image/png": "[encoded data removed]",
      "text/plain": [
       "<Figure size 432x288 with 1 Axes>"
      ]
     },
     "metadata": {
      "needs_background": "light"
     },
     "output_type": "display_data"
    }
   ],
   "source": [
    "plt.plot(df.lng,df.lat,'b.')\n",
    "plt.plot(subset.lng,subset.lat,'ro')\n",
    "plt.show()\n"
   ]
  },
  {
   "cell_type": "code",
   "execution_count": null,
   "metadata": {},
   "outputs": [],
   "source": []
  }
 ],
 "metadata": {
  "kernelspec": {
   "display_name": "Python 2",
   "language": "python",
   "name": "python2"
  },
  "language_info": {
   "codemirror_mode": {
    "name": "ipython",
    "version": 2
   },
   "file_extension": ".py",
   "mimetype": "text/x-python",
   "name": "python",
   "nbconvert_exporter": "python",
   "pygments_lexer": "ipython2",
   "version": "2.7.15rc1"
  }
 },
 "nbformat": 4,
 "nbformat_minor": 1
}
