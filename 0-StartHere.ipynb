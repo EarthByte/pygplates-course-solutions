{
 "cells": [
  {
   "cell_type": "markdown",
   "metadata": {},
   "source": [
    "# PyGPlates workshop\n",
    "\n",
    "These notebooks were produced by Simon Williams, EarthByte.\n",
    "\n",
    "## Notebooks\n",
    "\n",
    "Introduction to PyGPlates\n",
    "\n",
    "- [Global Overview of PyGPlates](./starting_point.ipynb)\n",
    "\n",
    "Tutorial notebooks\n",
    "\n",
    "1. [Reconstruction Sequences](./Exercise-01-Reconstruction-Sequences.ipynb)\n",
    "2. [Comparing Plate Models](./Exercise-02-Comparing-Plate-Models.ipynb)\n",
    "3. [Working with Palaeo-data](./Exercise-03-Working-with-Paleo-Data.ipynb)\n",
    "4. [Palaeoshoreline Validation](./Exercise-04-Paleoshoreline-Validation.ipynb)\n",
    "5. [Reconstructed Fossils](./Exercise-05-Reconstructed-Fossils.ipynb)\n",
    "6. [Plate Size Distributions](./Exercise-06-Plate-Size-Distributions.ipynb)"
   ]
  }
 ],
 "metadata": {
  "kernelspec": {
   "display_name": "Python 2",
   "language": "python",
   "name": "python2"
  },
  "language_info": {
   "codemirror_mode": {
    "name": "ipython",
    "version": 2
   },
   "file_extension": ".py",
   "mimetype": "text/x-python",
   "name": "python",
   "nbconvert_exporter": "python",
   "pygments_lexer": "ipython2",
   "version": "2.7.15"
  }
 },
 "nbformat": 4,
 "nbformat_minor": 2
}
